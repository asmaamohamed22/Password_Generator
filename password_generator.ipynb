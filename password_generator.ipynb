{
 "cells": [
  {
   "cell_type": "code",
   "execution_count": 1,
   "metadata": {},
   "outputs": [],
   "source": [
    "import random\n",
    "import pyperclip\n",
    "from tkinter import *\n",
    "from tkinter.ttk import *"
   ]
  },
  {
   "cell_type": "code",
   "execution_count": 2,
   "metadata": {},
   "outputs": [],
   "source": [
    "def low():\n",
    "    entry.delete(0,END)\n",
    "    \n",
    "    lenght = var1.get()\n",
    "    lower = \"abcdefghijklmnoprstuvwxyz\"\n",
    "    upper = \"ABCDEFGHIJKLMNOPRSTUVWXYZabcdefghijklmnoprstuvwxyz\"\n",
    "    digits = \"ABCDEFGHIJKLMNOPRSTUVWXYZabcdefghijklmnoprstuvwxyz1234567890 !@#$%^&*()~\"\n",
    "    password = \"\"\n",
    "    \n",
    "    \n",
    "    if var.get() == 1:\n",
    "        for i in range(0,lenght):\n",
    "            password = password + random.choice(lower)\n",
    "        return password\n",
    "    \n",
    "    elif var.get() == 0:\n",
    "        for i in range(0,lenght):\n",
    "            password = password + random.choice(upper)\n",
    "        return password\n",
    "    \n",
    "    elif var.get() == 3:\n",
    "        for i in range(0,lenght):\n",
    "            password = password + random.choice(digits)\n",
    "        return password\n",
    "    else:\n",
    "        print(\"Please Choose an option\") "
   ]
  },
  {
   "cell_type": "code",
   "execution_count": 3,
   "metadata": {},
   "outputs": [],
   "source": [
    "def generate():\n",
    "    password1 = low()\n",
    "    entry.insert(10,password1)  "
   ]
  },
  {
   "cell_type": "code",
   "execution_count": 4,
   "metadata": {},
   "outputs": [],
   "source": [
    "def copyclip():\n",
    "    random_password = entry.get()\n",
    "    pyperclip.copy(random_password)   "
   ]
  },
  {
   "cell_type": "code",
   "execution_count": 5,
   "metadata": {},
   "outputs": [],
   "source": [
    "root = Tk()\n",
    "var = IntVar()\n",
    "var1 = IntVar()"
   ]
  },
  {
   "cell_type": "code",
   "execution_count": 6,
   "metadata": {},
   "outputs": [
    {
     "data": {
      "text/plain": [
       "''"
      ]
     },
     "execution_count": 6,
     "metadata": {},
     "output_type": "execute_result"
    }
   ],
   "source": [
    "root.title(\"Random Password Generator\")"
   ]
  },
  {
   "cell_type": "code",
   "execution_count": 7,
   "metadata": {},
   "outputs": [],
   "source": [
    "Random_password = Label(root,text=\"Password\")\n",
    "Random_password.grid(row=0)\n",
    "entry = Entry(root)\n",
    "entry.grid(row=0,column=1)"
   ]
  },
  {
   "cell_type": "code",
   "execution_count": 8,
   "metadata": {},
   "outputs": [],
   "source": [
    "c_label = Label(root,text=\"Lenght\")\n",
    "c_label.grid(row=1)"
   ]
  },
  {
   "cell_type": "code",
   "execution_count": 9,
   "metadata": {},
   "outputs": [],
   "source": [
    "copy_button = Button(root,text=\"Copy\",command=copyclip)\n",
    "copy_button.grid(row=0,column=2)"
   ]
  },
  {
   "cell_type": "code",
   "execution_count": 10,
   "metadata": {},
   "outputs": [],
   "source": [
    "generate_button = Button(root,text=\"Generate\",command=generate)\n",
    "generate_button.grid(row=0,column=3)"
   ]
  },
  {
   "cell_type": "code",
   "execution_count": 11,
   "metadata": {},
   "outputs": [],
   "source": [
    "radio_low = Radiobutton(root,text=\"Low\",variable=var,value=1)\n",
    "radio_low.grid(row=1,column=2,sticky='E')"
   ]
  },
  {
   "cell_type": "code",
   "execution_count": 12,
   "metadata": {},
   "outputs": [],
   "source": [
    "radio_med = Radiobutton(root,text=\"Medium\",variable=var,value=0)\n",
    "radio_med.grid(row=1,column=3,sticky='E')"
   ]
  },
  {
   "cell_type": "code",
   "execution_count": 13,
   "metadata": {},
   "outputs": [],
   "source": [
    "radio_strong = Radiobutton(root,text=\"Strong\",variable=var,value=3)\n",
    "radio_strong.grid(row=1,column=4,sticky='E')"
   ]
  },
  {
   "cell_type": "code",
   "execution_count": 14,
   "metadata": {},
   "outputs": [],
   "source": [
    "combo = Combobox(root,textvariable=var1)"
   ]
  },
  {
   "cell_type": "code",
   "execution_count": 15,
   "metadata": {},
   "outputs": [],
   "source": [
    "combo['values']=(8,9,10,11,12,13,14,15,16,17,18,19,20,21,22,23,24,25,26,27,28,29,30,31,32,\"Length\")"
   ]
  },
  {
   "cell_type": "code",
   "execution_count": 16,
   "metadata": {},
   "outputs": [
    {
     "data": {
      "text/plain": [
       "''"
      ]
     },
     "execution_count": 16,
     "metadata": {},
     "output_type": "execute_result"
    }
   ],
   "source": [
    "combo.current(0)"
   ]
  },
  {
   "cell_type": "code",
   "execution_count": 17,
   "metadata": {},
   "outputs": [],
   "source": [
    "combo.bind('<<ComboboxSelected>>')\n",
    "combo.grid(column=1,row=1)"
   ]
  },
  {
   "cell_type": "code",
   "execution_count": 18,
   "metadata": {},
   "outputs": [],
   "source": [
    "root.mainloop()"
   ]
  },
  {
   "cell_type": "code",
   "execution_count": null,
   "metadata": {},
   "outputs": [],
   "source": []
  }
 ],
 "metadata": {
  "kernelspec": {
   "display_name": "Python 3",
   "language": "python",
   "name": "python3"
  },
  "language_info": {
   "codemirror_mode": {
    "name": "ipython",
    "version": 3
   },
   "file_extension": ".py",
   "mimetype": "text/x-python",
   "name": "python",
   "nbconvert_exporter": "python",
   "pygments_lexer": "ipython3",
   "version": "3.8.6"
  }
 },
 "nbformat": 4,
 "nbformat_minor": 4
}
